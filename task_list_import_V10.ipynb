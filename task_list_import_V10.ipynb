{
 "cells": [
  {
   "cell_type": "markdown",
   "metadata": {},
   "source": [
    "![](https://global-uploads.webflow.com/5f4444910aa0ad6a50bb4f52/5f444fb00e4dc15dd0f0416e_sisu-logo.svg)"
   ]
  },
  {
   "cell_type": "markdown",
   "metadata": {},
   "source": [
    "# Task List Processing <span style = \"color:yellow\">Version 10</span>"
   ]
  },
  {
   "cell_type": "markdown",
   "metadata": {},
   "source": [
    "## <span style=\"color:red\"> Dear CS Team (please read) 12/16/2022</span>"
   ]
  },
  {
   "cell_type": "markdown",
   "metadata": {},
   "source": [
    "There has been an error with the import process possibly due to an update to Sisu. Generally, when we import task lists and their resident tasks we would import the `Buyer/Seller code` as `client_type_id` for the task lists and would leave the `client_type_id` blank for the tasks. Once imported the task list status use to imprint on the tasks, but now doesn't and the blank `client_type_id` is being interpreted as `both` or `All` in Sisu. To fix this, for now, I have the code filling the `client_type_id` for the tasks. Current tests are showing this works. "
   ]
  },
  {
   "cell_type": "markdown",
   "metadata": {},
   "source": [
    "## <span style=\"color:red\"> Dear CS Team (please read) 10/25/2022</span>"
   ]
  },
  {
   "cell_type": "markdown",
   "metadata": {},
   "source": [
    "I have made a change to this process. \n",
    "\n",
    "I am shifting the SQL statement to gather the **agent information** to the front of the import process. My reasoning for doing this is to avoid an issue. The issue is that if the assignee is not in the Sisu User Database, then there is no assignee number for the task to be assigned to and will result in the task being uploaded without an assignee designated. \n",
    "\n",
    "In concert with the position change, I have built a check that will alert if there are new agents. I did not put this check later, where we were initially pulling in agent data, for convenience and also for the process. If we find out at that point, we will already have the task lists imported and having to pause and wait will burden our bandwidth (mentally). This way, if we get the error it is no big deal because we haven't started the process. (Stopping later also messes up the count within the tool -- not a huge deal, but worth avoiding.)\n",
    "\n",
    "The check will tell you the new user name and how many tasks the user is assigned to. It will also tell you the total lists affected. \n",
    "\n",
    "The rest of the process will remain the same **EXCEPT** that step 5 will no longer give an SQL statement for getting the agent info (as that will already be gathered) and step 6 will no longer collect the agent data. \n",
    "\n",
    "\n",
    "\n",
    "-Josh"
   ]
  },
  {
   "cell_type": "markdown",
   "metadata": {},
   "source": [
    "NOTES:\n",
    "\n",
    "- if the users are not already in Sisu the matchup will not work. \n",
    "    - Need to set up an alert for when the users are not in the Sisu and initiate the user import. "
   ]
  },
  {
   "cell_type": "markdown",
   "metadata": {},
   "source": [
    "<div style = \"text-align: left\"> The purpose of this notebook is to process, and reformat,\n",
    "                                   Task List information, <br> brought in as an excel document,\n",
    "                                   down to SQL statements for inserting into <span style = \"font-family:Roboto Thin; font-size:1em; color:#FF5000\">sisu</span>. </div>"
   ]
  },
  {
   "cell_type": "markdown",
   "metadata": {},
   "source": [
    "## 0 <span style=\"color:#b54dff\">Library"
   ]
  },
  {
   "cell_type": "code",
   "execution_count": 1,
   "metadata": {},
   "outputs": [],
   "source": [
    "#Library \n",
    "\n",
    "import os\n",
    "from termcolor import colored\n",
    "import pwd # needed if the document is stored on computer instead of Google Drive\n",
    "import tkinter as tk\n",
    "from tkinter import filedialog\n",
    "import pandas as pd\n",
    "pd.set_option('display.max_columns', None) # keeps pandas from truncating columns\n",
    "import numpy as np\n",
    "import clipboard\n",
    "pd.options.display.max_colwidth = 1000\n",
    "import warnings\n",
    "warnings.filterwarnings('ignore')\n",
    "from tabulate import tabulate\n",
    "from datetime import datetime\n",
    "import pytz\n",
    "import task_list_tools as tlt\n",
    "\n",
    "\n",
    "run_list = []\n",
    "\n",
    "# Cell feedback\n",
    "def cell_feedback():\n",
    "    print(\"Cell ran at:\")\n",
    "    tz_east = pytz.timezone('US/Eastern') \n",
    "    datetime_eastern = datetime.now(tz_east)\n",
    "    print(\"Eastern:\", datetime_eastern.strftime(\"%H:%M:%S\"))\n",
    "\n",
    "    tz_central = pytz.timezone('US/Central') \n",
    "    datetime_central = datetime.now(tz_central)\n",
    "    print(\"Central:\", datetime_central.strftime(\"%H:%M:%S\"))\n",
    "\n",
    "    tz_pacific = pytz.timezone('US/Pacific')\n",
    "    datetime_pacific = datetime.now(tz_pacific)\n",
    "    print(\"Pacific:\", datetime_pacific.strftime(\"%H:%M:%S\"))\n",
    "\n",
    "\n",
    "import subprocess\n",
    "import platform\n",
    "\n",
    "def raise_app(root: tk):\n",
    "    root.attributes(\"-topmost\", True)\n",
    "    if platform.system() == 'Darwin':\n",
    "        tmpl = 'tell application \"System Events\" to set frontmost of every process whose unix id is {} to true'\n",
    "        script = tmpl.format(os.getpid())\n",
    "        output = subprocess.check_call(['/usr/bin/osascript', '-e', script])\n",
    "    root.after(0, lambda: root.attributes(\"-topmost\", False))\n"
   ]
  },
  {
   "cell_type": "markdown",
   "metadata": {},
   "source": [
    "## 1 <span style=\"color:#8b49fc\"> Select Client Template File, View Lists & Tasks and Clean & Fixes "
   ]
  },
  {
   "cell_type": "markdown",
   "metadata": {},
   "source": [
    "<span style = \"color:#73efff\"> Make sure that the file you are working with is in a *FOLDER* that is formated with the team ID, a space, and then the team name. For example: 12345 Pretend Realty"
   ]
  },
  {
   "cell_type": "code",
   "execution_count": 2,
   "metadata": {},
   "outputs": [
    {
     "name": "stderr",
     "output_type": "stream",
     "text": [
      "2023-04-21 13:47:56.972 python[83853:64898963] +[CATransaction synchronize] called within transaction\n",
      "2023-04-21 13:47:57.092 python[83853:64898963] +[CATransaction synchronize] called within transaction\n"
     ]
    },
    {
     "name": "stdout",
     "output_type": "stream",
     "text": [
      "Team ID:\t18250\n",
      "Team Name:\tBen Bartolazzi\n",
      "File Name:\tDeanna Ashman.xlsx\n",
      "Sheet 1 (i=0):   \tSTART HERE => Enter Info\n",
      "Sheet 2 (i=1):   \tAccepted Offer Buyer\n",
      "Sheet 3 (i=2):   \tAccepted Offer Seller\n",
      "Sheet 4 (i=3):   \tAccepted Offer Both Sides\n",
      "Sheet 5 (i=4):   \tAccepted Offer Ben Buyer\n",
      "Sheet 6 (i=5):   \tAccepted Offer Ben Seller\n",
      "Sheet 7 (i=6):   \tCAMR\n",
      "Sheet 8 (i=7):   \tData mapping (hidden)\n",
      " \n",
      " \n",
      "SHEETS WITH TASKS AND COUNT OF TASKS/ROWS:\n",
      "\u001b[36m34\u001b[0m rows in Accepted Offer Buyer\n",
      "\u001b[36m40\u001b[0m rows in Accepted Offer Seller\n",
      "\u001b[36m43\u001b[0m rows in Accepted Offer Both Sides\n",
      "\u001b[36m27\u001b[0m rows in Accepted Offer Ben Buyer\n",
      "\u001b[36m28\u001b[0m rows in Accepted Offer Ben Seller\n",
      "\u001b[36m8\u001b[0m rows in CAMR\n",
      "\u001b[36m180\u001b[0m rows in total.\n",
      " \n",
      "\u001b[1m\u001b[32mAll empty Day values have been set to zero.\u001b[0m\n",
      "\u001b[1m\u001b[32mAll whitespace cleared from string values.\u001b[0m\n",
      " \n",
      "\u001b[1m\u001b[33mWARNING:\u001b[0m 51 Buyer/Seller code contains incorrect characters.\n",
      " \n",
      "\u001b[1m\u001b[32mGOOD: \u001b[0mNO duplicates found in data.\n",
      " \n",
      "\u001b[1m\u001b[33mWarning: \u001b[0mSome tasks do not have associated trigger dates. TOTAL: 121\n",
      "|     | sheet_name                | Task Name                                                                                                                                                |\n",
      "|----:|:--------------------------|:---------------------------------------------------------------------------------------------------------------------------------------------------------|\n",
      "|  12 | Accepted Offer Buyer      | Earnest Money Due, Send Receipt to Title, Lender                                                                                                         |\n",
      "|  13 | Accepted Offer Buyer      | Financing Pre-Approval Due                                                                                                                               |\n",
      "|  16 | Accepted Offer Buyer      | Home Inspection Contingency Deadline - Send any Amendments to Title/Lender                                                                               |\n",
      "|  17 | Accepted Offer Buyer      | Order Home Warranty                                                                                                                                      |\n",
      "|  18 | Accepted Offer Buyer      | Radon Testing Contingency Deadline                                                                                                                       |\n",
      "|  19 | Accepted Offer Buyer      | Septic/Water/Well Inspection Deadline                                                                                                                    |\n",
      "|  20 | Accepted Offer Buyer      | Email Lender asking if Loan commitment is on track                                                                                                       |\n",
      "|  21 | Accepted Offer Buyer      | Appraisal Contingency Deadline                                                                                                                           |\n",
      "|  22 | Accepted Offer Buyer      | Loan Commitment Deadline- Share with Listing agent                                                                                                       |\n",
      "|  23 | Accepted Offer Buyer      | Schedule Closing and Final Walk-through , Confirm With Lender/Title/Listing Agent                                                                        |\n",
      "|  24 | Accepted Offer Buyer      | Send Final Steps to Buyer - CC Agent & Lender                                                                                                            |\n",
      "|  25 | Accepted Offer Buyer      | FIRPTA certification                                                                                                                                     |\n",
      "|  26 | Accepted Offer Buyer      | Closing Date                                                                                                                                             |\n",
      "|  27 | Accepted Offer Buyer      | Update transaction in Boomtown, Change to Closed, Add address & closing date and Set follow up reminders for day of, six months and one year anniversary |\n",
      "|  28 | Accepted Offer Buyer      | Request Review                                                                                                                                           |\n",
      "|  29 | Accepted Offer Buyer      | Add Client to Homebot & Claim on Zillow                                                                                                                  |\n",
      "|  30 | Accepted Offer Buyer      | IF FSBO, add task for agent to grab a photo of outside of property and lower level if sq footage is finished at FWT                                      |\n",
      "|  31 | Accepted Offer Buyer      | Pay Redfin - Paige                                                                                                                                       |\n",
      "|  32 | Accepted Offer Buyer      | Add closing docs to redfin portal - agent                                                                                                                |\n",
      "|  33 | Accepted Offer Buyer      | Confirm Check, pay agent and up-date loop to sold                                                                                                        |\n",
      "|  48 | Accepted Offer Seller     | Earnest Money Due, Send Receipt to Title, Lender, Buyers Agent                                                                                           |\n",
      "|  52 | Accepted Offer Seller     | Home Inspection Contingency Deadline                                                                                                                     |\n",
      "|  53 | Accepted Offer Seller     | Order Home Warranty                                                                                                                                      |\n",
      "|  54 | Accepted Offer Seller     | Radon Testing Contingency Deadline                                                                                                                       |\n",
      "|  55 | Accepted Offer Seller     | Septic/Water/Well Inspection Deadline                                                                                                                    |\n",
      "|  56 | Accepted Offer Seller     | Check Loan commitment and appraisal status                                                                                                               |\n",
      "|  57 | Accepted Offer Seller     | Appraisal Contingency Deadline                                                                                                                           |\n",
      "|  58 | Accepted Offer Seller     | Loan Commitment Deadline                                                                                                                                 |\n",
      "|  59 | Accepted Offer Seller     | Schedule Sellers Pre-close and coordinate key for closing                                                                                                |\n",
      "|  60 | Accepted Offer Seller     | Send Final Steps Email to Seller, CC Agent                                                                                                               |\n",
      "|  61 | Accepted Offer Seller     | Pick Up Sign And Lockbox, if applicable                                                                                                                  |\n",
      "|  62 | Accepted Offer Seller     | FIRPTA Certification                                                                                                                                     |\n",
      "|  63 | Accepted Offer Seller     | Closing Date                                                                                                                                             |\n",
      "|  64 | Accepted Offer Seller     | Upload Closing Docs to Loop & Split Documents                                                                                                            |\n",
      "|  65 | Accepted Offer Seller     | Close out on MLS                                                                                                                                         |\n",
      "|  66 | Accepted Offer Seller     | Change Transaction under client in BT to Closed - Set follow up reminders & up-date address and closing date                                             |\n",
      "|  67 | Accepted Offer Seller     | Claim on Zillow                                                                                                                                          |\n",
      "|  68 | Accepted Offer Seller     | Request Review                                                                                                                                           |\n",
      "|  69 | Accepted Offer Seller     | If property is in DCMLS or GMAR, please assign closeout task to Listing Team                                                                             |\n",
      "|  70 | Accepted Offer Seller     | Pay Agent, Update loop status to sold                                                                                                                    |\n",
      "|  71 | Accepted Offer Seller     | Post SOLD on Facebook- tag agent                                                                                                                         |\n",
      "|  72 | Accepted Offer Seller     | Close out Listing Tracker                                                                                                                                |\n",
      "|  73 | Accepted Offer Seller     | Confirm Commission Check                                                                                                                                 |\n",
      "|  87 | Accepted Offer Both Sides | Earnest Money Due, Send Receipt to Title and Lender                                                                                                      |\n",
      "|  88 | Accepted Offer Both Sides | Financing Pre-Approval Due                                                                                                                               |\n",
      "|  89 | Accepted Offer Both Sides | Loop Approved                                                                                                                                            |\n",
      "|  90 | Accepted Offer Both Sides | Check if Appraisal was ordered (email Lender)                                                                                                            |\n",
      "|  91 | Accepted Offer Both Sides | Home Inspection Contingency Deadline - Send Amendment to Title/Lender                                                                                    |\n",
      "|  92 | Accepted Offer Both Sides | Order Home Warranty                                                                                                                                      |\n",
      "|  93 | Accepted Offer Both Sides | Radon Testing Contingency Deadline                                                                                                                       |\n",
      "|  94 | Accepted Offer Both Sides | Well/Water/Septic Inspection Deadline                                                                                                                    |\n",
      "|  95 | Accepted Offer Both Sides | Check Loan Commitment and Appraisal Status                                                                                                               |\n",
      "|  96 | Accepted Offer Both Sides | Email Lender Asking if Loan Commitment is on Track                                                                                                       |\n",
      "|  97 | Accepted Offer Both Sides | Appraisal Contingency Deadline                                                                                                                           |\n",
      "|  98 | Accepted Offer Both Sides | Loan Commitment Deadline                                                                                                                                 |\n",
      "|  99 | Accepted Offer Both Sides | Share Title Insurance Commitment with Buyer                                                                                                              |\n",
      "| 100 | Accepted Offer Both Sides | Schedule Sellers Pre-Close and Coordinate Key for Closing                                                                                                |\n",
      "| 101 | Accepted Offer Both Sides | Schedule Buyers Closing & Final Walkthrough, Confirm with Sellers/Lender/Title                                                                           |\n",
      "| 102 | Accepted Offer Both Sides | Send Final Steps to Seller - CC Agent                                                                                                                    |\n",
      "| 103 | Accepted Offer Both Sides | Send Final Steps to Buyer - CC Agent & Lender                                                                                                            |\n",
      "| 104 | Accepted Offer Both Sides | Pick up Sign and Lockbox                                                                                                                                 |\n",
      "| 105 | Accepted Offer Both Sides | FIRPTA Certification                                                                                                                                     |\n",
      "| 106 | Accepted Offer Both Sides | Closing Date                                                                                                                                             |\n",
      "| 107 | Accepted Offer Both Sides | Post SOLD on Facebook - Tag Agent                                                                                                                        |\n",
      "| 108 | Accepted Offer Both Sides | Upload Closing Docs                                                                                                                                      |\n",
      "| 109 | Accepted Offer Both Sides | Confirm Commission Check                                                                                                                                 |\n",
      "| 110 | Accepted Offer Both Sides | Pay Agent, Update Loop to Sold                                                                                                                           |\n",
      "| 111 | Accepted Offer Both Sides | Close Out on MLS                                                                                                                                         |\n",
      "| 112 | Accepted Offer Both Sides | Update transactions for both buyer and seller in BT to Closed, Update Addresses & Set Follow-Up Tasks                                                    |\n",
      "| 113 | Accepted Offer Both Sides | Claim on Zillow                                                                                                                                          |\n",
      "| 114 | Accepted Offer Both Sides | Request Review                                                                                                                                           |\n",
      "| 115 | Accepted Offer Both Sides | Pay Redfin                                                                                                                                               |\n",
      "| 116 | Accepted Offer Both Sides | Add Closing Docs to Redfin Portal - Agent                                                                                                                |\n",
      "| 124 | Accepted Offer Ben Buyer  | EM Due                                                                                                                                                   |\n",
      "| 125 | Accepted Offer Ben Buyer  | Pre-approval Due                                                                                                                                         |\n",
      "| 127 | Accepted Offer Ben Buyer  | Home Inspection Deadline                                                                                                                                 |\n",
      "| 128 | Accepted Offer Ben Buyer  | Radon Contingency Deadline                                                                                                                               |\n",
      "| 129 | Accepted Offer Ben Buyer  | Septic/Water/Well Inspection Deadline                                                                                                                    |\n",
      "| 130 | Accepted Offer Ben Buyer  | Loop Approved?                                                                                                                                           |\n",
      "| 131 | Accepted Offer Ben Buyer  | Is Loan Commitment on track?                                                                                                                             |\n",
      "| 132 | Accepted Offer Ben Buyer  | Appraisal Contingency Deadline                                                                                                                           |\n",
      "| 133 | Accepted Offer Ben Buyer  | Loan Commitment Deadline                                                                                                                                 |\n",
      "| 134 | Accepted Offer Ben Buyer  | Order Home Warranty                                                                                                                                      |\n",
      "| 135 | Accepted Offer Ben Buyer  | Schedule Closing & Final Walkthrough, Let Listing Agent know!                                                                                            |\n",
      "| 136 | Accepted Offer Ben Buyer  | Final Steps                                                                                                                                              |\n",
      "| 137 | Accepted Offer Ben Buyer  | FSBO- Take photo of outside of property, inside and lower level if finished                                                                              |\n",
      "| 138 | Accepted Offer Ben Buyer  | Closing Date                                                                                                                                             |\n",
      "| 139 | Accepted Offer Ben Buyer  | Update Boomtown                                                                                                                                          |\n",
      "| 140 | Accepted Offer Ben Buyer  | Add Client to Homebot & Claim on Zillow                                                                                                                  |\n",
      "| 141 | Accepted Offer Ben Buyer  | Request Review                                                                                                                                           |\n",
      "| 142 | Accepted Offer Ben Buyer  | Add property to MLS as Sold Comps Only if FSBO                                                                                                           |\n",
      "| 143 | Accepted Offer Ben Buyer  | Confirm Check, pay agent and up-date to Sold                                                                                                             |\n",
      "| 147 | Accepted Offer Ben Seller | Update Boomtown                                                                                                                                          |\n",
      "| 152 | Accepted Offer Ben Seller | EM Due                                                                                                                                                   |\n",
      "| 153 | Accepted Offer Ben Seller | Add EM Receipt to loop, call Jimmy to pick up & send copy of receipt to Title, Lender, Buyer Agent & Andrea                                              |\n",
      "| 154 | Accepted Offer Ben Seller | Pre-Approval Due                                                                                                                                         |\n",
      "| 155 | Accepted Offer Ben Seller | Loop Approved?                                                                                                                                           |\n",
      "| 156 | Accepted Offer Ben Seller | Appraisal Ordered?                                                                                                                                       |\n",
      "| 157 | Accepted Offer Ben Seller | Home Inspection Deadline                                                                                                                                 |\n",
      "| 158 | Accepted Offer Ben Seller | Order home warranty                                                                                                                                      |\n",
      "| 159 | Accepted Offer Ben Seller | Radon Contingency deadline                                                                                                                               |\n",
      "| 160 | Accepted Offer Ben Seller | Septic/Water/Well Inspecton Deadline                                                                                                                     |\n",
      "| 161 | Accepted Offer Ben Seller | Email Lender to see if Loan commitment is on track                                                                                                       |\n",
      "| 162 | Accepted Offer Ben Seller | Appraisal Contingency Deadline                                                                                                                           |\n",
      "| 163 | Accepted Offer Ben Seller | Loan Commitment Deadline                                                                                                                                 |\n",
      "| 164 | Accepted Offer Ben Seller | Schedule Pre-closing and Final Walk-through, Confirm with Lender & Title                                                                                 |\n",
      "| 165 | Accepted Offer Ben Seller | Final Steps                                                                                                                                              |\n",
      "| 166 | Accepted Offer Ben Seller | Closing Date                                                                                                                                             |\n",
      "| 167 | Accepted Offer Ben Seller | Update Boomtown                                                                                                                                          |\n",
      "| 168 | Accepted Offer Ben Seller | Request Review                                                                                                                                           |\n",
      "| 169 | Accepted Offer Ben Seller | Add Client to Homebot and Claim on Zillow                                                                                                                |\n",
      "| 170 | Accepted Offer Ben Seller | Add property to MLS as Sold Comps Only if One Party Listing                                                                                              |\n",
      "| 171 | Accepted Offer Ben Seller | Confirm Check, pay agent and up-date to sold                                                                                                             |\n",
      "| 172 | CAMR                      | Add fully executed CAMR and submit as PDF to Closing Team, Title and Lender                                                                              |\n",
      "| 173 | CAMR                      | Notify Listing Team if property needs to be up-dated on Paragon to Active etc.                                                                           |\n",
      "| 174 | CAMR                      | Follow up with Trust Account for EM                                                                                                                      |\n",
      "| 175 | CAMR                      | Check if RECR needs to be up-dated based on Inspection                                                                                                   |\n",
      "| 176 | CAMR                      | If buyer, assign agent task in Boomtown for EM Follow up                                                                                                 |\n",
      "| 177 | CAMR                      | Update Boomtown                                                                                                                                          |\n",
      "| 178 | CAMR                      | Red (terminate) out of tracker & change units to 0                                                                                                       |\n",
      "| 179 | CAMR                      | Status Terminated                                                                                                                                        |\n",
      " \n",
      " \n",
      "\u001b[32mselect Name, Team_id, Status from team where Team_id = 18250;\u001b[0m has been added to your clipboard\n",
      "Paste into the Raw Data Tool to validate that we are working with the correct Team ID.\n",
      "Verify that the Team ID matches the ticket in JIRA.\n",
      "\u001b[1m\u001b[33mSome task lists have 'Applies to Buyer/Seller' set as 'Both (B&S)'\u001b[0m\n",
      "\u001b[1m\u001b[32m'Applies to Buyer/Seller' set as 'Both (B&S)' has been processed\u001b[0m\n",
      "\u001b[32mRow values are now as follows:\u001b[0m\n",
      "Task List Name                  Applies to Buyer/Seller\n",
      "Accepted Offer Both Sides                                  43\n",
      "Accepted Offer Seller           s                          40\n",
      "Accepted Buyer Offer            b                          34\n",
      "Ben Seller Accepted Offer       s                          28\n",
      "Ben Buyer Accepted Offer Buyer  b                          27\n",
      "CAMR                                                        8\n",
      "dtype: int64\n",
      "\u001b[32mTotal Rows: \u001b[0m 180\n",
      " \n",
      "Cell ran at:\n",
      "Eastern: 16:48:00\n",
      "Central: 15:48:00\n",
      "Pacific: 13:48:00\n"
     ]
    }
   ],
   "source": [
    "'''\n",
    "This cell collects the template file, does a few transformations, and validates the date. It will give Warnings and Errors if there is an concerne or issue with the data. \n",
    "'''\n",
    "\n",
    "team_id, team_name, df = tlt.get_task_list_file_and_validate()\n",
    "\n",
    "tlt.cell_feedback()"
   ]
  },
  {
   "cell_type": "markdown",
   "metadata": {},
   "source": [
    "## 2 <span style = \"color:#577eff\">Collect Agent Information </span> "
   ]
  },
  {
   "cell_type": "code",
   "execution_count": 3,
   "metadata": {},
   "outputs": [
    {
     "name": "stdout",
     "output_type": "stream",
     "text": [
      "\u001b[1m\u001b[37mCollecting Agent Information from Sisu for team 18250\u001b[0m\n",
      "\u001b[1m\u001b[32mGet Agent SQL query has been copied to your clipboard. \n",
      "Paste this into Sisu's Raw Data Tool\u001b[0m\n",
      "\u001b[1m\u001b[36mCopy the returned table from the Raw Data Tool and run the following cell.\u001b[0m\n",
      " \n",
      "Cell ran at:\n",
      "Eastern: 16:48:05\n",
      "Central: 15:48:05\n",
      "Pacific: 13:48:05\n"
     ]
    }
   ],
   "source": [
    "'''\n",
    "This cell saves a query to the clipboard for agent info. \n",
    "In case the data is deleted somehow, the data is saved to the sql_get_agent_info variable.\n",
    "'''\n",
    "\n",
    "sql_get_agent_info = tlt.get_agent_info(team_id)\n",
    "\n",
    "tlt.cell_feedback()"
   ]
  },
  {
   "cell_type": "markdown",
   "metadata": {},
   "source": [
    "## 3 <span style = \"color:#5795ff\">Retrieve Agent Information and Collect Current Task Lists </span> "
   ]
  },
  {
   "cell_type": "code",
   "execution_count": 4,
   "metadata": {},
   "outputs": [
    {
     "name": "stdout",
     "output_type": "stream",
     "text": [
      " \n",
      "\u001b[1mCollecting Task Lists from Sisu for team 18250\u001b[0m\n",
      "\u001b[1m\u001b[32mGet current Task Lists SQL has been copied to your clipboard. \n",
      "Paste this into Sisu's Raw Data Tool\u001b[0m\n",
      "\u001b[1m\u001b[36mCopy the returned table from the Raw Data Tool and run the following cell.\u001b[0m\n",
      " \n",
      "Cell ran at:\n",
      "Eastern: 16:48:13\n",
      "Central: 15:48:13\n",
      "Pacific: 13:48:13\n"
     ]
    }
   ],
   "source": [
    "df_agents = tlt.capture_agent_info_and_check(df)\n",
    "\n",
    "''' \n",
    "This cell produces query for retreiving the current Task Lists\n",
    "The query text will automatically save to the clipboard, but in the case that the clipboard is cleared\n",
    "the texted is also saved to the sql_get_task_lists variable. \n",
    "'''\n",
    "sql_get_task_lists = tlt.get_task_lists(team_id)\n",
    "\n",
    "tlt.cell_feedback()\n"
   ]
  },
  {
   "cell_type": "markdown",
   "metadata": {},
   "source": [
    "## 4 <span style = \"color: #40a0bd\"> Task List Insert </span>"
   ]
  },
  {
   "cell_type": "code",
   "execution_count": 5,
   "metadata": {},
   "outputs": [
    {
     "name": "stdout",
     "output_type": "stream",
     "text": [
      "TASK LIST COUNT\n",
      "\u001b[36m6 \u001b[0mCurrent Task Lists\n",
      "\u001b[36m6 \u001b[0mNew Task Lists\n",
      "\u001b[36m12 \u001b[0mTotal Task Lists\n",
      "\u001b[36mTeam ID\u001b[0m column added.\n",
      "\u001b[36mcreated_ts\u001b[0m column added.\n",
      "\u001b[36mupdated_ts\u001b[0m column added.\n",
      "\u001b[36mStatus\u001b[0m column added.\n",
      "\u001b[36mstatus_trigger\u001b[0m column added.\n",
      " \n",
      "\u001b[1m\u001b[37mInserting Task List from the Team 18250 template\u001b[0m\n",
      "\u001b[1m\u001b[32mThe Task List INSERT SQL from the team 18250 template has been copied to your clipboard. \n",
      "Paste into the Sisu Raw Data Tool \n",
      "This will load the Task Lists from the template into Sisu.\u001b[0m\n",
      " \n",
      "Cell ran at:\n",
      "Eastern: 16:48:22\n",
      "Central: 15:48:22\n",
      "Pacific: 13:48:22\n"
     ]
    }
   ],
   "source": [
    "\n",
    "'''\n",
    "Retrieve copied data from SQL output\n",
    "Also define a Reset DataFrame\n",
    "'''\n",
    "\n",
    "df_reset_1, current_task_list_names = tlt.retrieve_current_task_lists_data(df)\n",
    "\n",
    "'''\n",
    "Getting information about the Task List count\n",
    "'''\n",
    "final_task_list_count = tlt.task_list_feedback(df, current_task_list_names)\n",
    "\n",
    "'''\n",
    "Adding missing columns to the DataFrame\n",
    "'''\n",
    "\n",
    "df, team_id = tlt.adding_columns(df, team_id)\n",
    "\n",
    "'''\n",
    "Define client task lists for INSERT statement\n",
    "'''\n",
    "\n",
    "df_client_task_list, client_task_list_cols_order = tlt.define_client_task_list(df, current_task_list_names, final_task_list_count)\n",
    "\n",
    "\n",
    "'''\n",
    "This cell produces an INSERT statement for the new Task Lists. \n",
    "The statment will automatically be saved to the clipboard but in the case that its deleted\n",
    "the statement is saved to sql_insert_task_lists.capitalize\n",
    "\n",
    "If you need to use sql_insert_task_lists, you can just type it in a code cell and it will output,\n",
    "but the easiest way to use it is to type(copy) the following into a code cell:\n",
    "\n",
    "clipboard.copy(sql_insert_task_lists)\n",
    "\n",
    "'''\n",
    "\n",
    "df, df_client_task_list, sql_insert_task_lists = tlt.insert_task_lists(df, df_client_task_list, team_id)\n",
    "\n",
    "\n",
    "tlt.cell_feedback()"
   ]
  },
  {
   "cell_type": "markdown",
   "metadata": {},
   "source": [
    "## 5 <span style=\"color:#40b9bd\">Collect Current Task Blueprints </span>  "
   ]
  },
  {
   "cell_type": "code",
   "execution_count": 6,
   "metadata": {},
   "outputs": [
    {
     "name": "stdout",
     "output_type": "stream",
     "text": [
      "\u001b[1m\u001b[37mCollecting Task Blueprints from Sisu for team 18250\u001b[0m\n",
      "\u001b[1m\u001b[32mGet Tasks SQL has been copied to your clipboard. \n",
      "Paste this into Sisu's Raw Data Tool\u001b[0m\n",
      "\u001b[1m\u001b[36mCopy the returned table from the Raw Data Tool and run the following cell.\u001b[0m\n",
      " \n",
      "Cell ran at:\n",
      "Eastern: 16:48:27\n",
      "Central: 15:48:27\n",
      "Pacific: 13:48:27\n"
     ]
    }
   ],
   "source": [
    "'''\n",
    "This cell produces an SQL query for getting the current task bluprints.\n",
    "The query text will automatically be saved to the clipboard but if it is deleted\n",
    "the query is also saved to the sql_get_task_blueprints variable. \n",
    "'''\n",
    "\n",
    "sql_get_task_blueprints = tlt.get_task_blueprints(team_id)\n",
    "\n",
    "tlt.cell_feedback()"
   ]
  },
  {
   "cell_type": "markdown",
   "metadata": {},
   "source": [
    "## 6 <span style = \"color:#40bda2\"> Retrieve Task Blueprints & Insert Task Blueprint </span>"
   ]
  },
  {
   "cell_type": "code",
   "execution_count": 7,
   "metadata": {},
   "outputs": [
    {
     "name": "stdout",
     "output_type": "stream",
     "text": [
      "TASK COUNT\n",
      "\u001b[36m200 \u001b[0mCurrent Tasks\n",
      "\u001b[36m180 \u001b[0mNew Tasks\n",
      "\u001b[36m380 \u001b[0mTotal Tasks\n",
      " \n",
      "1 180\n",
      "2 180\n",
      "3 180\n",
      "4 180\n",
      "5 180\n",
      "6 180\n",
      "7 180\n",
      "8 180\n",
      "\u001b[1m\u001b[37mInserting Task Blueprints from the Team 18250 template\u001b[0m\n",
      "\u001b[1m\u001b[32mAn INSERT statement for the Task Blueprints from the team 18250 template has been copied to your clipboard. \n",
      "Paste into the Sisu Raw Data Tool \n",
      "This will load the Task Blueprints from the template into Sisu.\u001b[0m\n",
      " \n",
      "Cell ran at:\n",
      "Eastern: 16:48:35\n",
      "Central: 15:48:35\n",
      "Pacific: 13:48:35\n"
     ]
    }
   ],
   "source": [
    "'''\n",
    "This cell retrieves the current task blueprints.\n",
    "Copy the queried values in the Raw Data Tool and run this cell.\n",
    "'''\n",
    "\n",
    "current_task_blueprint = tlt.retrieve_task_blueprints()\n",
    "\n",
    "'''\n",
    "Get feedback about task counts\n",
    "'''\n",
    "\n",
    "client_task_blueprint_cols, final_task_name_count, new_task_count = tlt.task_blueprint_feedback(df, current_task_blueprint)\n",
    "\n",
    "\n",
    "df, df_reset_2, df_assign_map, df_assign_map_general, df_client_task_blueprints = tlt.process_agent_info(df, df_agents, client_task_blueprint_cols)\n",
    "\n",
    "sql_insert_task_blueprints = tlt.insert_task_blueprints(df_client_task_blueprints, team_id)\n",
    "\n",
    "tlt.cell_feedback()\n",
    "\n",
    "# '''\n",
    "# This cell saves a query to the clipboard for agent info. \n",
    "# In case the data is deleted somehow, the data is saved to the sql_get_agent_info variable.\n",
    "# '''\n",
    "\n",
    "# sql_get_agent_info = tlt.get_agent_info(team_id)\n",
    "\n",
    "# tlt.cell_feedback()"
   ]
  },
  {
   "cell_type": "markdown",
   "metadata": {},
   "source": [
    "## 7 <span style=\"color:#40bd72\"> Collect Task List Matchup Data"
   ]
  },
  {
   "cell_type": "code",
   "execution_count": 8,
   "metadata": {},
   "outputs": [
    {
     "name": "stdout",
     "output_type": "stream",
     "text": [
      "\u001b[1m\u001b[37mCollecting task_id and name from client_task_list in Sisu for team 18250\u001b[0m\n",
      "\u001b[1m\u001b[32mSQL query has been copied to your clipboard. \n",
      "Paste this into Sisu's Raw Data Tool\u001b[0m\n",
      "\u001b[1m\u001b[36mCopy the returned table from the Raw Data Tool and run the following cell.\u001b[0m\n",
      " \n",
      "Cell ran at:\n",
      "Eastern: 16:50:43\n",
      "Central: 15:50:43\n",
      "Pacific: 13:50:43\n"
     ]
    }
   ],
   "source": [
    "'''\n",
    "This cell creates a query for the task list matchup data. \n",
    "This will save the text for the query to the clipboard. \n",
    "If the clipboard is cleared for some reason, use the sql_task_list_matchup variable\n",
    "'''\n",
    "\n",
    "sql_task_list_matchup = tlt.get_task_list_mathcup_data(team_id)\n",
    "\n",
    "tlt.cell_feedback()"
   ]
  },
  {
   "cell_type": "markdown",
   "metadata": {},
   "source": [
    "## 8 <span style = \"color:#40bd72\"> Retrieve Task Lists IDs & Collect Task Blueprint IDs </span>"
   ]
  },
  {
   "cell_type": "code",
   "execution_count": 9,
   "metadata": {},
   "outputs": [
    {
     "name": "stdout",
     "output_type": "stream",
     "text": [
      "\u001b[1m\u001b[37mCollecting task_blueprint_id and name from client_task_blueprint in Sisu for team 18250\u001b[0m\n",
      "\u001b[1m\u001b[32mGet Tasks SQL has been copied to your clipboard. \n",
      "Paste this into Sisu's Raw Data Tool\u001b[0m\n",
      "\u001b[1m\u001b[36mCopy the returned table from the Raw Data Tool and run the next cell.\u001b[0m\n",
      " \n",
      "Cell ran at:\n",
      "Eastern: 16:50:52\n",
      "Central: 15:50:52\n",
      "Pacific: 13:50:52\n"
     ]
    }
   ],
   "source": [
    "'''\n",
    "This cell retrieves the task list data for the matchup\n",
    "'''\n",
    "\n",
    "df_matchup_task_lists = tlt.retrieve_task_list_matchup_data()\n",
    "\n",
    "'''\n",
    "This cell creates a query for the task blueprint matchup data. \n",
    "This will save the text for the query to the clipboard. \n",
    "If the clipboard is cleared for some reason, use the sql_task_blueprint_matchup variable \n",
    "'''\n",
    "\n",
    "sql_task_blueprint_matchup_data = tlt.get_task_blueprint_matchup_data(team_id)\n",
    "\n",
    "tlt.cell_feedback()"
   ]
  },
  {
   "cell_type": "markdown",
   "metadata": {},
   "source": [
    "## 9 <span style = \"color:#40bd48\"> Retrieve Task Blueprints IDs & Build the Lists-Tasks Matchup (Merge) </span>"
   ]
  },
  {
   "cell_type": "code",
   "execution_count": 10,
   "metadata": {},
   "outputs": [
    {
     "name": "stdout",
     "output_type": "stream",
     "text": [
      "Number of Tasks before removing duplicates:  180\n",
      "Number of duplications:  1.0\n",
      " \n",
      "Cell ran at:\n",
      "Eastern: 16:51:04\n",
      "Central: 15:51:04\n",
      "Pacific: 13:51:04\n"
     ]
    }
   ],
   "source": [
    "'''\n",
    "This cell retrieves the task blueprint matchup data.\n",
    "It also sets df_reset_3\n",
    "'''\n",
    "\n",
    "df_reset_3, df_matchup_task_blueprint = tlt.retrieve_task_blueprint_matchup_data(df)\n",
    "\n",
    "'''\n",
    "Merge Data\n",
    "'''\n",
    "\n",
    "df, df_reset_3 = tlt.merge_data(df_matchup_task_blueprint, df, df_matchup_task_lists, new_task_count)\n",
    "\n",
    "tlt.cell_feedback()"
   ]
  },
  {
   "cell_type": "markdown",
   "metadata": {},
   "source": [
    "## 10 <span style = \"color:#61bd40\"> Validate Merge </span>\n",
    "\n",
    "If not correct compare the <span style = \"color:#61bd40\"> 'Task Name' </span> from <span style = \"color:#61bd40\"> df </span> to <span style = \"color:#61bd40\"> 'name' </span> from <span style = \"color:#61bd40\">df_matchup_task_blueprint </span>\n",
    "\n",
    "like the following: \n",
    "\n",
    "```python\n",
    "# Look in the data frame for the rows with Null values in 'task_blueprint_id'\n",
    "df[df['task_blueprint_id'].isna()]\n",
    "\n",
    "# Then use the 'Task Name' from df as a string to be searched in df_mathup_task_blueprint 'name' column. If run correctly, this will\n",
    "# give just a single row where the 'task_blueprint_id' can be found. \n",
    "df_matchup_task_blueprint[df_matchup_task_blueprint['name'].str.contains('Process closing package - 1 day')]\n",
    "\n",
    "# finally, add the 'task_blueprint_id' to the correct row. \n",
    "df.loc[df['Task Name'].str.contains('Process closing package - 1 day'), 'task_blueprint_id'] = 269973\n",
    "\n",
    "```\n",
    "\n",
    "Checking against display order appears to be a good way to correct this as well. <br>\n",
    "The below code has been incorporated into step 10 IF the number display orders is equal to the number of missing blueprint ids. \n",
    "\n",
    "```python\n",
    "for i in df[df['task_blueprint_id'].isna()]['display_order']:\n",
    "    print(df_matchup_task_blueprint[df_matchup_task_blueprint['display_order']==i]['task_blueprint_id'].to_list()[0])\n",
    "    df.loc[df['display_order']==i, 'task_blueprint_id'] = df_matchup_task_blueprint[df_matchup_task_blueprint['display_order']==i]['task_blueprint_id'].to_list()[0]\n",
    "```"
   ]
  },
  {
   "cell_type": "code",
   "execution_count": 12,
   "metadata": {},
   "outputs": [
    {
     "name": "stdout",
     "output_type": "stream",
     "text": [
      "\u001b[32mNo Null values for Task List ID\u001b[0m\n",
      "\u001b[32mNo Null values for Task Blueprint ID\u001b[0m\n",
      " \n",
      "Cell ran at:\n",
      "Eastern: 16:51:56\n",
      "Central: 15:51:56\n",
      "Pacific: 13:51:56\n"
     ]
    }
   ],
   "source": [
    "'''\n",
    "Validate Merge -- checks for Tasks that do not have task_blueprint_id\n",
    "'''\n",
    "\n",
    "tlt.validate_merge(df, df_matchup_task_blueprint)\n",
    "\n",
    "tlt.cell_feedback()"
   ]
  },
  {
   "cell_type": "markdown",
   "metadata": {},
   "source": [
    "## 11 <span style = \"color:#93bd40\"> Build the Matchup Insert Statement </span>"
   ]
  },
  {
   "cell_type": "code",
   "execution_count": 16,
   "metadata": {},
   "outputs": [
    {
     "name": "stdout",
     "output_type": "stream",
     "text": [
      "\u001b[1m\u001b[37mInserting Matchup data for Team 18250\u001b[0m\n",
      "\u001b[1m\u001b[32mAn INSERT statement for the Matchup data for Team 18250 has been copied to your clipboard. \n",
      "Paste into the Sisu Raw Data Tool \n",
      "This will load the Matchup data into Sisu.\u001b[0m\n",
      " \n",
      "Cell ran at:\n",
      "Eastern: 15:20:36\n",
      "Central: 14:20:36\n",
      "Pacific: 12:20:36\n"
     ]
    }
   ],
   "source": [
    "'''\n",
    "Create INSERT statement for merge data.\n",
    "This will automatically save to clipboard. If somehow deleted use:\n",
    "\n",
    "clipboard.copy(sql_merge_data)\n",
    "'''\n",
    "\n",
    "sql_merge_data = tlt.create_merge_insert_statement(df, team_id)\n",
    "\n",
    "tlt.cell_feedback()"
   ]
  },
  {
   "cell_type": "code",
   "execution_count": 21,
   "metadata": {},
   "outputs": [
    {
     "data": {
      "text/html": [
       "<div>\n",
       "<style scoped>\n",
       "    .dataframe tbody tr th:only-of-type {\n",
       "        vertical-align: middle;\n",
       "    }\n",
       "\n",
       "    .dataframe tbody tr th {\n",
       "        vertical-align: top;\n",
       "    }\n",
       "\n",
       "    .dataframe thead th {\n",
       "        text-align: right;\n",
       "    }\n",
       "</style>\n",
       "<table border=\"1\" class=\"dataframe\">\n",
       "  <thead>\n",
       "    <tr style=\"text-align: right;\">\n",
       "      <th></th>\n",
       "      <th>Task List Name</th>\n",
       "      <th>List Description</th>\n",
       "      <th>Applies to Buyer/Seller</th>\n",
       "      <th>Buyer/Seller code</th>\n",
       "      <th>Task Name</th>\n",
       "      <th>Task Description</th>\n",
       "      <th>Task or Notification?</th>\n",
       "      <th>Assign to TC, Agent or assignee full name</th>\n",
       "      <th>Assign To T/A/Agent ID</th>\n",
       "      <th>Task Trigger date \\n(Relative due date)</th>\n",
       "      <th>Trigger Date DB (Sisu)</th>\n",
       "      <th>Days</th>\n",
       "      <th>sheet_name</th>\n",
       "      <th>List descr. remaining\\ncharacters</th>\n",
       "      <th>Task description remaining\\ncharacters</th>\n",
       "      <th>Task name remaining\\ncharacters</th>\n",
       "      <th>Team ID</th>\n",
       "      <th>created_ts</th>\n",
       "      <th>updated_ts</th>\n",
       "      <th>Status</th>\n",
       "      <th>status_trigger</th>\n",
       "      <th>first_name</th>\n",
       "      <th>last_name</th>\n",
       "      <th>agent_id</th>\n",
       "      <th>full_name</th>\n",
       "      <th>name_x</th>\n",
       "      <th>assign_to</th>\n",
       "      <th>display_order</th>\n",
       "      <th>client_type_id_x</th>\n",
       "      <th>name_y</th>\n",
       "      <th>dscr_x</th>\n",
       "      <th>client_type_id_y</th>\n",
       "      <th>name</th>\n",
       "      <th>dscr_y</th>\n",
       "      <th>related_client_date_column</th>\n",
       "      <th>due_days</th>\n",
       "      <th>task_type</th>\n",
       "      <th>task_list_id</th>\n",
       "      <th>task_blueprint_id</th>\n",
       "    </tr>\n",
       "  </thead>\n",
       "  <tbody>\n",
       "  </tbody>\n",
       "</table>\n",
       "</div>"
      ],
      "text/plain": [
       "Empty DataFrame\n",
       "Columns: [Task List Name, List Description, Applies to Buyer/Seller, Buyer/Seller code, Task Name, Task Description, Task or Notification?, Assign to TC, Agent or assignee full name, Assign To T/A/Agent ID, Task Trigger date \n",
       "(Relative due date), Trigger Date DB (Sisu), Days, sheet_name, List descr. remaining\n",
       "characters, Task description remaining\n",
       "characters, Task name remaining\n",
       "characters, Team ID, created_ts, updated_ts, Status, status_trigger, first_name, last_name, agent_id, full_name, name_x, assign_to, display_order, client_type_id_x, name_y, dscr_x, client_type_id_y, name, dscr_y, related_client_date_column, due_days, task_type, task_list_id, task_blueprint_id]\n",
       "Index: []"
      ]
     },
     "execution_count": 21,
     "metadata": {},
     "output_type": "execute_result"
    }
   ],
   "source": [
    "df[df.duplicated()]"
   ]
  },
  {
   "cell_type": "markdown",
   "metadata": {},
   "source": [
    "## 12 <span style = \"color:#bdbb46\"> Summary </span>"
   ]
  },
  {
   "cell_type": "code",
   "execution_count": 17,
   "metadata": {},
   "outputs": [
    {
     "name": "stdout",
     "output_type": "stream",
     "text": [
      "\u001b[36mSUMMARY\u001b[0m\n",
      "\u001b[32mCopy the white text below and paste it into the following markdown cell. Run the markdown cell, select the output, copy it, and paste into JIRA.\u001b[0m\n",
      "| Subject                 |   Count |\n",
      "|:------------------------|--------:|\n",
      "| Initial Task List Count |       0 |\n",
      "| New Task List Count     |       6 |\n",
      "| Total Task List Count   |       6 |\n",
      "| Initial Task Count      |       0 |\n",
      "| New Task Count          |     200 |\n",
      "| Total Task Count        |     200 |\n"
     ]
    }
   ],
   "source": [
    "'''\n",
    "This cell creates a summary. Copy the summary table and paste it into a markdown cell. Run the Markdown cell and copy the output. Paste the output into JIRA. \n",
    "'''\n",
    "\n",
    "tlt.create_summary(current_task_list_names, current_task_blueprint, df)\n"
   ]
  },
  {
   "cell_type": "markdown",
   "metadata": {},
   "source": [
    "| Subject                 |   Count |\n",
    "|:------------------------|--------:|\n",
    "| Initial Task List Count |       0 |\n",
    "| New Task List Count     |       6 |\n",
    "| Total Task List Count   |       6 |\n",
    "| Initial Task Count      |       0 |\n",
    "| New Task Count          |     200 |\n",
    "| Total Task Count        |     200 |"
   ]
  },
  {
   "cell_type": "markdown",
   "metadata": {},
   "source": [
    "## FINISH"
   ]
  }
 ],
 "metadata": {
  "interpreter": {
   "hash": "aee8b7b246df8f9039afb4144a1f6fd8d2ca17a180786b69acc140d282b71a49"
  },
  "kernelspec": {
   "display_name": "Python 3.9 (tensorflow)",
   "language": "python",
   "name": "tensorflow"
  },
  "language_info": {
   "codemirror_mode": {
    "name": "ipython",
    "version": 3
   },
   "file_extension": ".py",
   "mimetype": "text/x-python",
   "name": "python",
   "nbconvert_exporter": "python",
   "pygments_lexer": "ipython3",
   "version": "3.9.13"
  }
 },
 "nbformat": 4,
 "nbformat_minor": 4
}
