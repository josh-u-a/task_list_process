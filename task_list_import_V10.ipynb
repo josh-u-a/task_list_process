{
 "cells": [
  {
   "cell_type": "markdown",
   "metadata": {},
   "source": [
    "![](https://global-uploads.webflow.com/5f4444910aa0ad6a50bb4f52/5f444fb00e4dc15dd0f0416e_sisu-logo.svg)"
   ]
  },
  {
   "cell_type": "markdown",
   "metadata": {},
   "source": [
    "# Task List Processing <span style = \"color:yellow\">Version 10</span>"
   ]
  },
  {
   "cell_type": "markdown",
   "metadata": {},
   "source": [
    "NOTES:\n",
    "\n",
    "- if the users are not already in Sisu the matchup will not work. \n",
    "    - Need to set up an alert for when the users are not in the Sisu and initiate the user import. "
   ]
  },
  {
   "cell_type": "markdown",
   "metadata": {},
   "source": [
    "<div style = \"text-align: left\"> The purpose of this notebook is to process, and reformat,\n",
    "                                   Task List information, <br> brought in as an excel document,\n",
    "                                   down to SQL statements for inserting into <span style = \"font-family:Roboto Thin; font-size:1em; color:#FF5000\">sisu</span>. </div>"
   ]
  },
  {
   "cell_type": "markdown",
   "metadata": {},
   "source": [
    "## 0 <span style=\"color:#b54dff\">Library"
   ]
  },
  {
   "cell_type": "code",
   "execution_count": 1,
   "metadata": {},
   "outputs": [],
   "source": [
    "#Library \n",
    "\n",
    "import os\n",
    "from termcolor import colored\n",
    "import pwd # needed if the document is stored on computer instead of Google Drive\n",
    "import tkinter as tk\n",
    "from tkinter import filedialog\n",
    "import pandas as pd\n",
    "pd.set_option('display.max_columns', None) # keeps pandas from truncating columns\n",
    "import numpy as np\n",
    "import clipboard\n",
    "pd.options.display.max_colwidth = 1000\n",
    "import warnings\n",
    "warnings.filterwarnings('ignore')\n",
    "from tabulate import tabulate\n",
    "from datetime import datetime\n",
    "import pytz\n",
    "import task_list_tools as tlt\n",
    "\n",
    "\n",
    "run_list = []\n",
    "\n",
    "# Cell feedback\n",
    "def cell_feedback():\n",
    "    print(\"Cell ran at:\")\n",
    "    tz_east = pytz.timezone('US/Eastern') \n",
    "    datetime_eastern = datetime.now(tz_east)\n",
    "    print(\"Eastern:\", datetime_eastern.strftime(\"%H:%M:%S\"))\n",
    "\n",
    "    tz_central = pytz.timezone('US/Central') \n",
    "    datetime_central = datetime.now(tz_central)\n",
    "    print(\"Central:\", datetime_central.strftime(\"%H:%M:%S\"))\n",
    "\n",
    "    tz_pacific = pytz.timezone('US/Pacific')\n",
    "    datetime_pacific = datetime.now(tz_pacific)\n",
    "    print(\"Pacific:\", datetime_pacific.strftime(\"%H:%M:%S\"))\n",
    "\n",
    "\n",
    "import subprocess\n",
    "import platform\n",
    "\n",
    "def raise_app(root: tk):\n",
    "    root.attributes(\"-topmost\", True)\n",
    "    if platform.system() == 'Darwin':\n",
    "        tmpl = 'tell application \"System Events\" to set frontmost of every process whose unix id is {} to true'\n",
    "        script = tmpl.format(os.getpid())\n",
    "        output = subprocess.check_call(['/usr/bin/osascript', '-e', script])\n",
    "    root.after(0, lambda: root.attributes(\"-topmost\", False))\n"
   ]
  },
  {
   "cell_type": "markdown",
   "metadata": {},
   "source": [
    "## 1 <span style=\"color:#8b49fc\"> Select Client Template File, View Lists & Tasks and Clean & Fixes "
   ]
  },
  {
   "cell_type": "markdown",
   "metadata": {},
   "source": [
    "<span style = \"color:#73efff\"> Make sure that the file you are working with is in a *FOLDER* that is formated with the team ID, a space, and then the team name. For example: 12345 Pretend Realty"
   ]
  },
  {
   "cell_type": "code",
   "execution_count": null,
   "metadata": {},
   "outputs": [],
   "source": [
    "'''\n",
    "This cell collects the template file, does a few transformations, and validates the date. It will give Warnings and Errors if there is an concerne or issue with the data. \n",
    "'''\n",
    "\n",
    "team_id, team_name, df = tlt.get_task_list_file_and_validate()\n",
    "\n",
    "tlt.cell_feedback()"
   ]
  },
  {
   "cell_type": "markdown",
   "metadata": {},
   "source": [
    "## 2 <span style = \"color:#577eff\">Collect Current Task Lists </span> "
   ]
  },
  {
   "cell_type": "code",
   "execution_count": null,
   "metadata": {},
   "outputs": [],
   "source": [
    "''' \n",
    "This cell produces query for retreiving the current Task Lists\n",
    "The query text will automatically save to the clipboard, but in the case that the clipboard is cleared\n",
    "the texted is also saved to the sql_get_task_lists variable. \n",
    "'''\n",
    "sql_get_task_lists = tlt.get_task_lists(team_id)\n",
    "\n",
    "tlt.cell_feedback()\n"
   ]
  },
  {
   "cell_type": "markdown",
   "metadata": {},
   "source": [
    "## 3 <span style = \"color: #5795ff\"> Task List Insert </span>"
   ]
  },
  {
   "cell_type": "code",
   "execution_count": null,
   "metadata": {},
   "outputs": [],
   "source": [
    "\n",
    "'''\n",
    "Retrieve copied data from SQL output\n",
    "Also define a Reset DataFrame\n",
    "'''\n",
    "\n",
    "df_reset_1, current_task_list_names = tlt.retrieve_current_task_lists_data(df)\n",
    "\n",
    "'''\n",
    "Getting information about the Task List count\n",
    "'''\n",
    "final_task_list_count = tlt.task_list_feedback(df, current_task_list_names)\n",
    "\n",
    "'''\n",
    "Adding missing columns to the DataFrame\n",
    "'''\n",
    "\n",
    "df, team_id = tlt.adding_columns(df, team_id)\n",
    "\n",
    "'''\n",
    "Define client task lists for INSERT statement\n",
    "'''\n",
    "\n",
    "df_client_task_list, client_task_list_cols_order = tlt.define_client_task_list(df, current_task_list_names, final_task_list_count)\n",
    "\n",
    "\n",
    "'''\n",
    "This cell produces an INSERT statement for the new Task Lists. \n",
    "The statment will automatically be saved to the clipboard but in the case that its deleted\n",
    "the statement is saved to sql_insert_task_lists.capitalize\n",
    "\n",
    "If you need to use sql_insert_task_lists, you can just type it in a code cell and it will output,\n",
    "but the easiest way to use it is to type(copy) the following into a code cell:\n",
    "\n",
    "clipboard.copy(sql_insert_task_lists)\n",
    "\n",
    "'''\n",
    "\n",
    "df, df_client_task_list, sql_insert_task_lists = tlt.insert_task_lists(df, df_client_task_list, team_id)\n",
    "\n",
    "\n",
    "tlt.cell_feedback()"
   ]
  },
  {
   "cell_type": "markdown",
   "metadata": {},
   "source": [
    "## 4 <span style=\"color:#40a0bd\">Collect Current Task Blueprints </span>  "
   ]
  },
  {
   "cell_type": "code",
   "execution_count": null,
   "metadata": {},
   "outputs": [],
   "source": [
    "'''\n",
    "This cell produces an SQL query for getting the current task bluprints.\n",
    "The query text will automatically be saved to the clipboard but if it is deleted\n",
    "the query is also saved to the sql_get_task_blueprints variable. \n",
    "'''\n",
    "\n",
    "sql_get_task_blueprints = tlt.get_task_blueprints(team_id)\n",
    "\n",
    "tlt.cell_feedback()"
   ]
  },
  {
   "cell_type": "markdown",
   "metadata": {},
   "source": [
    "## 5 <span style = \"color:#40b9bd\"> Retrieve Task Blueprints & Collect Agent Information </span>"
   ]
  },
  {
   "cell_type": "code",
   "execution_count": null,
   "metadata": {},
   "outputs": [],
   "source": [
    "'''\n",
    "This cell retrieves the current task blueprints.\n",
    "Copy the queried values in the Raw Data Tool and run this cell.\n",
    "'''\n",
    "\n",
    "current_task_blueprint = tlt.retrieve_task_blueprints()\n",
    "\n",
    "'''\n",
    "Get feedback about task counts\n",
    "'''\n",
    "\n",
    "client_task_blueprint_cols, final_task_name_count, new_task_count = tlt.task_blueprint_feedback(df, current_task_blueprint)\n",
    "\n",
    "'''\n",
    "This cell saves a query to the clipboard for agent info. \n",
    "In case the data is deleted somehow, the data is saved to the sql_get_agent_info variable.\n",
    "'''\n",
    "\n",
    "sql_get_agent_info = tlt.get_agent_info(team_id)\n",
    "\n",
    "tlt.cell_feedback()"
   ]
  },
  {
   "cell_type": "markdown",
   "metadata": {},
   "source": [
    "## 6 <span style = \"color:#40bda0\"> Retrieve Agents & Insert Task Blueprint</span>"
   ]
  },
  {
   "cell_type": "code",
   "execution_count": null,
   "metadata": {},
   "outputs": [],
   "source": [
    "df, df_reset_2, df_assign_map, df_assign_map_general, df_client_task_blueprints = tlt.process_agent_info(df, client_task_blueprint_cols)\n",
    "\n",
    "sql_insert_task_blueprints = tlt.insert_task_blueprints(df_client_task_blueprints, team_id)\n",
    "\n",
    "tlt.cell_feedback()"
   ]
  },
  {
   "cell_type": "markdown",
   "metadata": {},
   "source": [
    "## 7 <span style=\"color:#40bd72\"> Collect Task List Matchup Data"
   ]
  },
  {
   "cell_type": "code",
   "execution_count": null,
   "metadata": {},
   "outputs": [],
   "source": [
    "'''\n",
    "This cell creates a query for the task list matchup data. \n",
    "This will save the text for the query to the clipboard. \n",
    "If the clipboard is cleared for some reason, use the sql_task_list_matchup variable\n",
    "'''\n",
    "\n",
    "sql_task_list_matchup = tlt.get_task_list_mathcup_data(team_id)\n",
    "\n",
    "tlt.cell_feedback()"
   ]
  },
  {
   "cell_type": "markdown",
   "metadata": {},
   "source": [
    "## 8 <span style = \"color:#40bd72\"> Retrieve Task Lists IDs & Collect Task Blueprint IDs </span>"
   ]
  },
  {
   "cell_type": "code",
   "execution_count": null,
   "metadata": {},
   "outputs": [],
   "source": [
    "'''\n",
    "This cell retrieves the task list data for the matchup\n",
    "'''\n",
    "\n",
    "df_matchup_task_lists = tlt.retrieve_task_list_matchup_data()\n",
    "\n",
    "'''\n",
    "This cell creates a query for the task blueprint matchup data. \n",
    "This will save the text for the query to the clipboard. \n",
    "If the clipboard is cleared for some reason, use the sql_task_blueprint_matchup variable \n",
    "'''\n",
    "\n",
    "sql_task_blueprint_matchup_data = tlt.get_task_blueprint_matchup_data(team_id)\n",
    "\n",
    "tlt.cell_feedback()"
   ]
  },
  {
   "cell_type": "markdown",
   "metadata": {},
   "source": [
    "## 9 <span style = \"color:#40bd48\"> Retrieve Task Blueprints IDs & Build the Lists-Tasks Matchup (Merge) </span>"
   ]
  },
  {
   "cell_type": "code",
   "execution_count": null,
   "metadata": {},
   "outputs": [],
   "source": [
    "'''\n",
    "This cell retrieves the task blueprint matchup data.\n",
    "It also sets df_reset_3\n",
    "'''\n",
    "\n",
    "df_reset_3, df_matchup_task_blueprint = tlt.retrieve_task_blueprint_matchup_data(df)\n",
    "\n",
    "'''\n",
    "Merge Data\n",
    "'''\n",
    "\n",
    "df, df_reset_3 = tlt.merge_data(df_matchup_task_blueprint, df, df_matchup_task_lists, new_task_count)\n",
    "\n",
    "tlt.cell_feedback()"
   ]
  },
  {
   "cell_type": "markdown",
   "metadata": {},
   "source": [
    "## 10 <span style = \"color:#61bd40\"> Validate Merge </span>\n",
    "\n",
    "If not correct compare the <span style = \"color:#61bd40\"> 'Task Name' </span> from <span style = \"color:#61bd40\"> df </span> to <span style = \"color:#61bd40\"> 'name' </span> from <span style = \"color:#61bd40\">df_matchup_task_blueprint </span>\n",
    "\n",
    "like the following: \n",
    "\n",
    "```python\n",
    "# Look in the data frame for the rows with Null values in 'task_blueprint_id'\n",
    "df[df['task_blueprint_id'].isna()]\n",
    "\n",
    "# Then use the 'Task Name' from df as a string to be searched in df_mathup_task_blueprint 'name' column. If run correctly, this will\n",
    "# give just a single row where the 'task_blueprint_id' can be found. \n",
    "df_matchup_task_blueprint[df_matchup_task_blueprint['name'].str.contains('Process closing package - 1 day')]\n",
    "\n",
    "# finally, add the 'task_blueprint_id' to the correct row. \n",
    "df.loc[df['Task Name'].str.contains('Process closing package - 1 day'), 'task_blueprint_id'] = 269973\n",
    "\n",
    "```\n",
    "\n",
    "Checking against display order appears to be a good way to correct this as well. <br>\n",
    "The below code has been incorporated into step 10 IF the number display orders is equal to the number of missing blueprint ids. \n",
    "\n",
    "```python\n",
    "for i in df[df['task_blueprint_id'].isna()]['display_order']:\n",
    "    print(df_matchup_task_blueprint[df_matchup_task_blueprint['display_order']==i]['task_blueprint_id'].to_list()[0])\n",
    "    df.loc[df['display_order']==i, 'task_blueprint_id'] = df_matchup_task_blueprint[df_matchup_task_blueprint['display_order']==i]['task_blueprint_id'].to_list()[0]\n",
    "```"
   ]
  },
  {
   "cell_type": "code",
   "execution_count": null,
   "metadata": {},
   "outputs": [],
   "source": [
    "'''\n",
    "Validate Merge -- checks for Tasks that do not have task_blueprint_id\n",
    "'''\n",
    "\n",
    "tlt.validate_merge(df, df_matchup_task_blueprint)\n",
    "\n",
    "tlt.cell_feedback()"
   ]
  },
  {
   "cell_type": "markdown",
   "metadata": {},
   "source": [
    "## 11 <span style = \"color:#93bd40\"> Build the Matchup Insert Statement </span>"
   ]
  },
  {
   "cell_type": "code",
   "execution_count": null,
   "metadata": {},
   "outputs": [],
   "source": [
    "'''\n",
    "Create INSERT statement for merge data.\n",
    "This will automatically save to clipboard. If somehow deleted use:\n",
    "\n",
    "clipboard.copy(sql_merge_data)\n",
    "'''\n",
    "\n",
    "sql_merge_data = tlt.create_merge_insert_statement(df, team_id)\n",
    "\n",
    "tlt.cell_feedback()"
   ]
  },
  {
   "cell_type": "markdown",
   "metadata": {},
   "source": [
    "## 12 <span style = \"color:#bdbb46\"> Summary </span>"
   ]
  },
  {
   "cell_type": "code",
   "execution_count": 13,
   "metadata": {},
   "outputs": [
    {
     "name": "stdout",
     "output_type": "stream",
     "text": [
      "\u001b[36mSUMMARY\u001b[0m\n",
      "\u001b[32mCopy the white text below and paste it into the following markdown cell. Run the markdown cell, select the output, copy it, and paste into JIRA.\u001b[0m\n",
      "| Subject                 |   Count |\n",
      "|:------------------------|--------:|\n",
      "| Initial Task List Count |       0 |\n",
      "| New Task List Count     |       1 |\n",
      "| Total Task List Count   |       1 |\n",
      "| Initial Task Count      |       0 |\n",
      "| New Task Count          |     151 |\n",
      "| Total Task Count        |     151 |\n"
     ]
    }
   ],
   "source": [
    "'''\n",
    "This cell creates a summary. Copy the summary table and paste it into a markdown cell. Run the Markdown cell and copy the output. Paste the output into JIRA. \n",
    "'''\n",
    "\n",
    "tlt.create_summary(current_task_list_names, current_task_blueprint, df)\n"
   ]
  },
  {
   "cell_type": "markdown",
   "metadata": {},
   "source": [
    "| Subject                 |   Count |\n",
    "|:------------------------|--------:|\n",
    "| Initial Task List Count |       0 |\n",
    "| New Task List Count     |       1 |\n",
    "| Total Task List Count   |       1 |\n",
    "| Initial Task Count      |       0 |\n",
    "| New Task Count          |     151 |\n",
    "| Total Task Count        |     151 |"
   ]
  },
  {
   "cell_type": "markdown",
   "metadata": {},
   "source": [
    "## FINISH"
   ]
  }
 ],
 "metadata": {
  "interpreter": {
   "hash": "aee8b7b246df8f9039afb4144a1f6fd8d2ca17a180786b69acc140d282b71a49"
  },
  "kernelspec": {
   "display_name": "Python 3.9 (tensorflow)",
   "language": "python",
   "name": "tensorflow"
  },
  "language_info": {
   "codemirror_mode": {
    "name": "ipython",
    "version": 3
   },
   "file_extension": ".py",
   "mimetype": "text/x-python",
   "name": "python",
   "nbconvert_exporter": "python",
   "pygments_lexer": "ipython3",
   "version": "3.9.13"
  }
 },
 "nbformat": 4,
 "nbformat_minor": 4
}
